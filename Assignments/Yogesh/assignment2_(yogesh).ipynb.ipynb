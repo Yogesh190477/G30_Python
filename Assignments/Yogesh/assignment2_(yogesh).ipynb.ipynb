{
  "nbformat": 4,
  "nbformat_minor": 0,
  "metadata": {
    "colab": {
      "provenance": []
    },
    "kernelspec": {
      "name": "python3",
      "display_name": "Python 3"
    },
    "language_info": {
      "name": "python"
    }
  },
  "cells": [
    {
      "cell_type": "markdown",
      "source": [],
      "metadata": {
        "id": "Ds31ZvH-2F4y"
      }
    },
    {
      "cell_type": "code",
      "source": [
        "1. Write a program that takes an integer as input and determines if it is even or odd using an if-else statement."
      ],
      "metadata": {
        "id": "k7VhLStD2Ny1"
      },
      "execution_count": null,
      "outputs": []
    },
    {
      "cell_type": "code",
      "source": [
        "num=int(input(\"enter the number:\"))\n",
        "\n",
        "if num% 2==0:\n",
        "    print(\"the given number is even\")\n",
        "\n",
        "else :\n",
        "    print(\"the given number is odd\")"
      ],
      "metadata": {
        "colab": {
          "base_uri": "https://localhost:8080/"
        },
        "id": "uFhwJEv62Zup",
        "outputId": "41ec540b-c408-4950-ec97-95242ef66dee"
      },
      "execution_count": 1,
      "outputs": [
        {
          "output_type": "stream",
          "name": "stdout",
          "text": [
            "enter the number:2\n",
            "the given number is even\n"
          ]
        }
      ]
    },
    {
      "cell_type": "markdown",
      "source": [
        "2. Write a program that takes a person's age as input and determines if they are eligible to vote using an if-else statement."
      ],
      "metadata": {
        "id": "1C9-oniQ4Vd1"
      }
    },
    {
      "cell_type": "code",
      "source": [
        "age=int(input(\"enter your age :\"))\n",
        "if age>=18:\n",
        "    print(\"your are eligible to vote\")\n",
        "\n",
        "else:\n",
        "    print(\"your not eligible to vote\")\n"
      ],
      "metadata": {
        "colab": {
          "base_uri": "https://localhost:8080/"
        },
        "id": "37bCr2oF4SVs",
        "outputId": "624d9633-75df-4b26-d9c5-0ea34af08a26"
      },
      "execution_count": 2,
      "outputs": [
        {
          "output_type": "stream",
          "name": "stdout",
          "text": [
            "enter your age :18\n",
            "your are eligible to vote\n"
          ]
        }
      ]
    },
    {
      "cell_type": "markdown",
      "source": [
        "3. Write a program that takes a year as input and determines if it is a leap year using an if-else statement."
      ],
      "metadata": {
        "id": "9bfqMhgN4rZp"
      }
    },
    {
      "cell_type": "code",
      "source": [
        "year=int(input(\"enter the year to check wheather it is leaf year are not:\"))\n",
        "if year%4==0 and year %100!=0:\n",
        "    print(\"it is  a leaf year\")\n",
        "else:\n",
        "    print(\"it is not a leaf year\")"
      ],
      "metadata": {
        "colab": {
          "base_uri": "https://localhost:8080/"
        },
        "id": "ERxZyDxX4qfX",
        "outputId": "655c5f28-cd60-4bd2-a6ba-1e63f6cf2f37"
      },
      "execution_count": 3,
      "outputs": [
        {
          "output_type": "stream",
          "name": "stdout",
          "text": [
            "enter the year to check wheather it is leaf year are not:2024\n",
            "it is  a leaf year\n"
          ]
        }
      ]
    },
    {
      "cell_type": "markdown",
      "source": [
        "4. Write a program that takes the price of a product and the discount percentage as input and calculates the discounted price using an if-else statement."
      ],
      "metadata": {
        "id": "8dKqWU5K4_eR"
      }
    },
    {
      "cell_type": "code",
      "source": [
        "price=float(input(\"enter the price of the product:\"))\n",
        "discount_percentage=float(input(\"enter the discount percentage:\"))\n",
        "\n",
        "if discount_percentage>=0 and discount_percentage<=100:\n",
        "    discount_amount=(discount_percentage/100)*price\n",
        "    discount_price=price-discount_amount\n",
        "    print(f\"the discount price is :{discount_price:.2f}\")\n",
        "\n",
        "else:\n",
        "    print(\"invalid amount\")"
      ],
      "metadata": {
        "colab": {
          "base_uri": "https://localhost:8080/"
        },
        "id": "UfepX8wp4-0O",
        "outputId": "45259c79-e65c-48a5-e1d2-7d687813ad0a"
      },
      "execution_count": 4,
      "outputs": [
        {
          "output_type": "stream",
          "name": "stdout",
          "text": [
            "enter the price of the product:150\n",
            "enter the discount percentage:20\n",
            "the discount price is :120.00\n"
          ]
        }
      ]
    },
    {
      "cell_type": "markdown",
      "source": [
        "5. Write a program that takes a character as input and determines if it is uppercase or lowercase using an if-else statement."
      ],
      "metadata": {
        "id": "eiS0oejp52cO"
      }
    },
    {
      "cell_type": "code",
      "source": [
        "char=input(\"enter the character:\")\n",
        "if len(char)==1:\n",
        "    if char.isupper():\n",
        "        print(\"entered char is uppercase\")\n",
        "\n",
        "    elif char.islower():\n",
        "        print(\"entered char is lowercase\")\n",
        "\n",
        "    else:\n",
        "        print(\"it is not define \")\n",
        "\n",
        "else:\n",
        "    print(\"please try to enter in single charecter\")"
      ],
      "metadata": {
        "colab": {
          "base_uri": "https://localhost:8080/"
        },
        "id": "KT1RFXZs5Q4j",
        "outputId": "30a42e61-e563-4bd8-e035-8e5485a76391"
      },
      "execution_count": 5,
      "outputs": [
        {
          "output_type": "stream",
          "name": "stdout",
          "text": [
            "enter the character:A\n",
            "entered char is uppercase\n"
          ]
        }
      ]
    },
    {
      "cell_type": "markdown",
      "source": [
        "6. Write a program that takes a number as input and determines if it is positive, negative\n"
      ],
      "metadata": {
        "id": "NTCKPGVE6V8-"
      }
    },
    {
      "cell_type": "code",
      "source": [
        "num=int(input(\"enter the number:\"))\n",
        "\n",
        "if num>0:\n",
        "    print(\"the value is positive\")\n",
        "\n",
        "elif num==0:\n",
        "    print(\"the value is zero\")\n",
        "\n",
        "else:\n",
        "    print(\"the value is negative\")"
      ],
      "metadata": {
        "colab": {
          "base_uri": "https://localhost:8080/"
        },
        "id": "0b4FOSoi6VI8",
        "outputId": "8cd00dd7-8d22-4c23-8cb4-9257c7672627"
      },
      "execution_count": 7,
      "outputs": [
        {
          "output_type": "stream",
          "name": "stdout",
          "text": [
            "enter the number:-1\n",
            "the value is negative\n"
          ]
        }
      ]
    },
    {
      "cell_type": "markdown",
      "source": [
        "1. **Print a pattern**: Write a Python program to print the following pattern using nested loops:\n",
        "   ```\n",
        "   *\n",
        "   **\n",
        "   ***\n",
        "   ****\n",
        "   *****\n",
        "   ```"
      ],
      "metadata": {
        "id": "71zCn58Z7Jzw"
      }
    },
    {
      "cell_type": "code",
      "source": [
        "count=0\n",
        "while True:\n",
        "    if count <=5:\n",
        "        print(\"*\"* count)\n",
        "        count+=1\n",
        "    else:\n",
        "        break\n",
        "\n",
        ""
      ],
      "metadata": {
        "colab": {
          "base_uri": "https://localhost:8080/"
        },
        "id": "RIHH7HlH6qG9",
        "outputId": "e5ae6ff3-93ac-4f69-934c-a43650e55c50"
      },
      "execution_count": 8,
      "outputs": [
        {
          "output_type": "stream",
          "name": "stdout",
          "text": [
            "\n",
            "*\n",
            "**\n",
            "***\n",
            "****\n",
            "*****\n"
          ]
        }
      ]
    },
    {
      "cell_type": "markdown",
      "source": [
        "2. Write a Python program that prints the multiplication table (from 1 to 10) using nested loops."
      ],
      "metadata": {
        "id": "SZOtmuu_7txu"
      }
    },
    {
      "cell_type": "code",
      "source": [
        "for i in range(1,11):\n",
        "    for j in range(1,11):\n",
        "        result = i*j\n",
        "        if result<10:\n",
        "            print( f\"0{result}\",end=\" \")\n",
        "        else:\n",
        "            print(f\"{result}\",end=\" \")\n",
        "\n",
        "    print()"
      ],
      "metadata": {
        "colab": {
          "base_uri": "https://localhost:8080/"
        },
        "id": "ZnJnIRUJ7m6v",
        "outputId": "b7988df7-ef76-4bbc-8a68-0cbef235006e"
      },
      "execution_count": 9,
      "outputs": [
        {
          "output_type": "stream",
          "name": "stdout",
          "text": [
            "01 02 03 04 05 06 07 08 09 10 \n",
            "02 04 06 08 10 12 14 16 18 20 \n",
            "03 06 09 12 15 18 21 24 27 30 \n",
            "04 08 12 16 20 24 28 32 36 40 \n",
            "05 10 15 20 25 30 35 40 45 50 \n",
            "06 12 18 24 30 36 42 48 54 60 \n",
            "07 14 21 28 35 42 49 56 63 70 \n",
            "08 16 24 32 40 48 56 64 72 80 \n",
            "09 18 27 36 45 54 63 72 81 90 \n",
            "10 20 30 40 50 60 70 80 90 100 \n"
          ]
        }
      ]
    },
    {
      "cell_type": "markdown",
      "source": [
        "3. Write a Python program using nested loops to find all prime numbers within a given range."
      ],
      "metadata": {
        "id": "7NUwgi8M9gHp"
      }
    },
    {
      "cell_type": "code",
      "source": [
        "def is_prime(num):\n",
        "    if num < 2:\n",
        "        return False\n",
        "    for i in range(2, int(num ** 0.5) + 1):\n",
        "        if num % i == 0:\n",
        "            return False\n",
        "    return True\n",
        "\n",
        "def find_primes_in_range(start, end):\n",
        "    primes = []\n",
        "    for num in range(start, end + 1):\n",
        "        if is_prime(num):\n",
        "            primes.append(num)\n",
        "    return primes\n",
        "\n",
        "\n",
        "start_range = 10\n",
        "end_range = 50\n",
        "result = find_primes_in_range(start_range, end_range)\n",
        "print(f\"Prime numbers between {start_range} and {end_range}: {result}\")"
      ],
      "metadata": {
        "colab": {
          "base_uri": "https://localhost:8080/"
        },
        "id": "JWgU3acr9fNT",
        "outputId": "d2c6126c-3675-472e-fdba-ce6b3dd413c2"
      },
      "execution_count": 13,
      "outputs": [
        {
          "output_type": "stream",
          "name": "stdout",
          "text": [
            "Prime numbers between 10 and 50: [11, 13, 17, 19, 23, 29, 31, 37, 41, 43, 47]\n"
          ]
        }
      ]
    },
    {
      "cell_type": "markdown",
      "source": [
        "4. Write a Python program to print the Fibonacci sequence's first `n` numbers using a loop within a loop."
      ],
      "metadata": {
        "id": "HYerlZrn91Cd"
      }
    },
    {
      "cell_type": "code",
      "source": [
        "def fibonacci_sequence(n):\n",
        "    fib_sequence = [0, 1]\n",
        "\n",
        "    while len(fib_sequence) < n:\n",
        "        next_num = fib_sequence[-1] + fib_sequence[-2]\n",
        "        fib_sequence.append(next_num)\n",
        "\n",
        "    return fib_sequence[:n]\n",
        "\n",
        "\n",
        "n = 10\n",
        "result = fibonacci_sequence(n)\n",
        "print(f\"The first {n} numbers of the Fibonacci sequence: {result}\")"
      ],
      "metadata": {
        "colab": {
          "base_uri": "https://localhost:8080/"
        },
        "id": "-XwxiyVy90Ku",
        "outputId": "e7a4e50c-65c9-4bf1-ec91-1c647d84205f"
      },
      "execution_count": 14,
      "outputs": [
        {
          "output_type": "stream",
          "name": "stdout",
          "text": [
            "The first 10 numbers of the Fibonacci sequence: [0, 1, 1, 2, 3, 5, 8, 13, 21, 34]\n"
          ]
        }
      ]
    },
    {
      "cell_type": "markdown",
      "source": [
        "5. Write a Python program to print Pascal's triangle up to `n` rows using nested loops."
      ],
      "metadata": {
        "id": "O2OAFgo5-ASb"
      }
    },
    {
      "cell_type": "code",
      "source": [
        "def fibonacci_sequence(n):\n",
        "    fib_sequence = [0, 1]\n",
        "\n",
        "    while len(fib_sequence) < n:\n",
        "        next_num = fib_sequence[-1] + fib_sequence[-2]\n",
        "        fib_sequence.append(next_num)\n",
        "\n",
        "    return fib_sequence[:n]\n",
        "\n",
        "\n",
        "n = 10\n",
        "result = fibonacci_sequence(n)\n",
        "print(f\"The first {n} numbers of the Fibonacci sequence: {result}\")\n"
      ],
      "metadata": {
        "colab": {
          "base_uri": "https://localhost:8080/"
        },
        "id": "Q8Szy_dd9_LS",
        "outputId": "2e59b52f-1438-4477-d6c3-1483298ecccd"
      },
      "execution_count": 15,
      "outputs": [
        {
          "output_type": "stream",
          "name": "stdout",
          "text": [
            "The first 10 numbers of the Fibonacci sequence: [0, 1, 1, 2, 3, 5, 8, 13, 21, 34]\n"
          ]
        }
      ]
    }
  ]
}