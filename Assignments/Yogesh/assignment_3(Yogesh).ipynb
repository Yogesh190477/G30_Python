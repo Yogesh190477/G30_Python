{
  "nbformat": 4,
  "nbformat_minor": 0,
  "metadata": {
    "colab": {
      "provenance": []
    },
    "kernelspec": {
      "name": "python3",
      "display_name": "Python 3"
    },
    "language_info": {
      "name": "python"
    }
  },
  "cells": [
    {
      "cell_type": "markdown",
      "source": [
        "1. Interactive Fiction Game(Hangman): Unravel the mystery word letter by letter in this classic word game. Use your deductive skills, guess wisely, and avoid the hangman's noose! (Topics: User input, strings, conditionals, loops)"
      ],
      "metadata": {
        "id": "hx07COiI6ZSE"
      }
    },
    {
      "cell_type": "code",
      "execution_count": null,
      "metadata": {
        "id": "FuT8Cj026BcK"
      },
      "outputs": [],
      "source": [
        "def start_game():\n",
        "    print(\"Welcome to the Interactive Fiction Game!\")\n",
        "    print(\"You find yourself in a mysterious forest. Choose your path wisely.\")\n",
        "\n",
        "    while True:\n",
        "        print(\"\\nOptions:\")\n",
        "        print(\"1. Take the left path\")\n",
        "        print(\"2. Take the right path\")\n",
        "        print(\"3. Stay put and observe\")\n",
        "\n",
        "        user_choice = input(\"Enter the number of your choice: \")\n",
        "\n",
        "        if user_choice == \"1\":\n",
        "            print(\"\\nYou venture down the left path and discover a hidden treasure!\")\n",
        "            print(\"Congratulations, you win!\")\n",
        "            break\n",
        "        elif user_choice == \"2\":\n",
        "            print(\"\\nYou encounter a wild beast on the right path. It's game over!\")\n",
        "            break\n",
        "        elif user_choice == \"3\":\n",
        "            print(\"\\nYou decide to stay put and observe. You notice a secret passage to the left.\")\n",
        "            print(\"Do you want to explore it?\")\n",
        "            explore_choice = input(\"Enter 'yes' or 'no': \")\n",
        "            if explore_choice.lower() == \"yes\":\n",
        "                print(\"\\nYou explore the secret passage and find a shortcut to the treasure!\")\n",
        "                print(\"Congratulations, you win!\")\n",
        "                break\n",
        "            else:\n",
        "                print(\"\\nYou choose not to explore and continue observing.\")\n",
        "        else:\n",
        "            print(\"\\nInvalid choice. Please enter a valid option.\")\n",
        "\n",
        "if _name_ == \"_main_\":\n",
        "    start_game()"
      ]
    },
    {
      "cell_type": "markdown",
      "source": [
        "2. Grocery Budget Tracker: Ditch the overspending! This handy tool tracks your grocery expenses, helps you stay within budget, and highlights areas for saving. (Topics: User input, variables, operators, conditionals, loops)"
      ],
      "metadata": {
        "id": "M2wsy9Xc7iBk"
      }
    },
    {
      "cell_type": "code",
      "source": [
        "def grocery_budget_tracker():\n",
        "    budget = float(input(\"Enter your grocery budget for the month: $\"))\n",
        "    remaining_budget = budget\n",
        "    grocery_list = []\n",
        "\n",
        "    while True:\n",
        "        print(\"\\nOptions:\")\n",
        "        print(\"1. Add item to the grocery list\")\n",
        "        print(\"2. View grocery list\")\n",
        "        print(\"3. Finish and see summary\")\n",
        "\n",
        "        user_choice = input(\"Enter the number of your choice: \")\n",
        "\n",
        "        if user_choice == \"1\":\n",
        "            item_name = input(\"Enter the item name: \")\n",
        "            item_price = float(input(\"Enter the item price: $\"))\n",
        "\n",
        "            if item_price > remaining_budget:\n",
        "                print(\"Warning: This item exceeds your remaining budget.\")\n",
        "            else:\n",
        "                grocery_list.append((item_name, item_price))\n",
        "                remaining_budget -= item_price\n",
        "                print(f\"{item_name} added to the list. Remaining budget: ${remaining_budget:.2f}\")\n",
        "\n",
        "        elif user_choice == \"2\":\n",
        "            if not grocery_list:\n",
        "                print(\"Your grocery list is empty.\")\n",
        "            else:\n",
        "                print(\"\\nGrocery List:\")\n",
        "                for item in grocery_list:\n",
        "                    print(f\"{item[0]} - ${item[1]:.2f}\")\n",
        "\n",
        "        elif user_choice == \"3\":\n",
        "            print(\"\\nBudget Summary:\")\n",
        "            print(f\"Initial Budget: ${budget:.2f}\")\n",
        "            print(f\"Remaining Budget: ${remaining_budget:.2f}\")\n",
        "\n",
        "            if remaining_budget < 0:\n",
        "                print(\"Warning: You've exceeded your budget.\")\n",
        "            elif remaining_budget == 0:\n",
        "                print(\"You've used up your entire budget. Be cautious next time!\")\n",
        "\n",
        "            break\n",
        "\n",
        "        else:\n",
        "            print(\"\\nInvalid choice. Please enter a valid option.\")\n",
        "\n",
        "if _name_ == \"_main_\":\n",
        "    grocery_budget_tracker()"
      ],
      "metadata": {
        "id": "FQNeFRNU7muT"
      },
      "execution_count": null,
      "outputs": []
    },
    {
      "cell_type": "markdown",
      "source": [
        "3. Password Strength Checker: Craft an impenetrable shield against cyber threats! This checker analyzes your password's strength based on complexity criteria and suggests improvements for maximum security. (Topics: User input, strings, conditionals)"
      ],
      "metadata": {
        "id": "iJPoQN3Q8D0x"
      }
    },
    {
      "cell_type": "code",
      "source": [
        "def password_strength_checker(password):\n",
        "\n",
        "    length_ok = len(password) >= 8\n",
        "\n",
        "\n",
        "    has_uppercase = any(char.isupper() for char in password)\n",
        "    has_lowercase = any(char.islower() for char in password)\n",
        "    has_digit = any(char.isdigit() for char in password)\n",
        "\n",
        "\n",
        "    has_special_char = any(char.isalnum() == False for char in password)\n",
        "\n",
        "\n",
        "    is_strong = length_ok and has_uppercase and has_lowercase and has_digit and has_special_char\n",
        "\n",
        "    return is_strong\n",
        "\n",
        "\n",
        "user_password = input(\"Enter your password: \")\n",
        "if password_strength_checker(user_password):\n",
        "    print(\"Your password is strong!\")\n",
        "else:\n",
        "    print(\"Your password is weak. Consider improving it for better security.\")"
      ],
      "metadata": {
        "colab": {
          "base_uri": "https://localhost:8080/"
        },
        "id": "sTZamvcj8J4u",
        "outputId": "7f7a292e-70e6-49a8-fb60-de4836d84afb"
      },
      "execution_count": 5,
      "outputs": [
        {
          "output_type": "stream",
          "name": "stdout",
          "text": [
            "Enter your password: rdhjth\n",
            "Your password is weak. Consider improving it for better security.\n"
          ]
        }
      ]
    },
    {
      "cell_type": "markdown",
      "source": [
        "4. Personal Budgeting App: Take control of your finances! This app tracks your income, expenses, and spending habits, empowering you to make informed decisions and achieve your financial goals. (Topics: User input, variables, operators, conditionals, loops)"
      ],
      "metadata": {
        "id": "quMdArl284Hw"
      }
    },
    {
      "cell_type": "code",
      "source": [
        "def personal_budget_app():\n",
        "    income = float(input(\"Enter your monthly income: $\"))\n",
        "    expenses = []\n",
        "\n",
        "    while True:\n",
        "        print(\"\\nOptions:\")\n",
        "        print(\"1. Add expense\")\n",
        "        print(\"2. View expenses\")\n",
        "        print(\"3. View spending habits\")\n",
        "        print(\"4. Exit\")\n",
        "\n",
        "        user_choice = input(\"Enter the number of your choice: \")\n",
        "\n",
        "        if user_choice == \"1\":\n",
        "            expense_name = input(\"Enter the expense name: \")\n",
        "            expense_amount = float(input(\"Enter the expense amount: $\"))\n",
        "            expenses.append((expense_name, expense_amount))\n",
        "            print(f\"{expense_name} added to expenses. Remaining income: ${income - sum(e[1] for e in expenses):.2f}\")\n",
        "\n",
        "        elif user_choice == \"2\":\n",
        "            if not expenses:\n",
        "                print(\"Your expense list is empty.\")\n",
        "            else:\n",
        "                print(\"\\nExpenses:\")\n",
        "                for expense in expenses:\n",
        "                    print(f\"{expense[0]} - ${expense[1]:.2f}\")\n",
        "\n",
        "        elif user_choice == \"3\":\n",
        "            total_expenses = sum(e[1] for e in expenses)\n",
        "            if total_expenses == 0:\n",
        "                print(\"You haven't spent any money yet.\")\n",
        "            else:\n",
        "                spending_habit = total_expenses / income\n",
        "                print(\"\\nSpending Habits:\")\n",
        "                print(f\"Total Expenses: ${total_expenses:.2f}\")\n",
        "                print(f\"Percentage of Income Spent: {spending_habit * 100:.2f}%\")\n",
        "\n",
        "        elif user_choice == \"4\":\n",
        "            print(\"\\nBudget Summary:\")\n",
        "            print(f\"Monthly Income: ${income:.2f}\")\n",
        "\n",
        "            if not expenses:\n",
        "                print(\"No expenses recorded.\")\n",
        "            else:\n",
        "                print(\"\\nExpenses:\")\n",
        "                for expense in expenses:\n",
        "                    print(f\"{expense[0]} - ${expense[1]:.2f}\")\n",
        "\n",
        "            break\n",
        "\n",
        "        else:\n",
        "            print(\"\\nInvalid choice. Please enter a valid option.\")\n",
        "\n",
        "if _name_ == \"_main_\":\n",
        "    personal_budget_app()"
      ],
      "metadata": {
        "id": "FFAz1ycN8-gm"
      },
      "execution_count": null,
      "outputs": []
    },
    {
      "cell_type": "markdown",
      "source": [
        "5. Interactive Quiz with Feedback: Test your knowledge and get insightful feedback! This quiz adapts to your responses, providing personalized feedback and learning opportunities. (Topics: User input, conditionals, strings, loops)"
      ],
      "metadata": {
        "id": "eTPria-39OoM"
      }
    },
    {
      "cell_type": "code",
      "source": [
        "def todo_list_app():\n",
        "    todo_list = []\n",
        "\n",
        "    while True:\n",
        "        print(\"\\nOptions:\")\n",
        "        print(\"1. Add task to the to-do list\")\n",
        "        print(\"2. View to-do list\")\n",
        "        print(\"3. Mark task as completed\")\n",
        "        print(\"4. Exit\")\n",
        "\n",
        "        user_choice = input(\"Enter the number of your choice: \")\n",
        "\n",
        "        if user_choice == \"1\":\n",
        "            task_name = input(\"Enter the task name: \")\n",
        "            todo_list.append({\"task\": task_name, \"completed\": False})\n",
        "            print(f\"{task_name} added to the to-do list.\")\n",
        "\n",
        "        elif user_choice == \"2\":\n",
        "            if not todo_list:\n",
        "                print(\"Your to-do list is empty.\")\n",
        "            else:\n",
        "                print(\"\\nTo-Do List:\")\n",
        "                for index, task in enumerate(todo_list, start=1):\n",
        "                    status = \"Completed\" if task[\"completed\"] else \"Not Completed\"\n",
        "                    print(f\"{index}. {task['task']} - {status}\")\n",
        "\n",
        "        elif user_choice == \"3\":\n",
        "            if not todo_list:\n",
        "                print(\"Your to-do list is empty.\")\n",
        "            else:\n",
        "                print(\"\\nTo-Do List:\")\n",
        "                for index, task in enumerate(todo_list, start=1):\n",
        "                    status = \"Completed\" if task[\"completed\"] else \"Not Completed\"\n",
        "                    print(f\"{index}. {task['task']} - {status}\")\n",
        "\n",
        "                task_index = int(input(\"Enter the number of the task to mark as completed: \")) - 1\n",
        "\n",
        "                if 0 <= task_index < len(todo_list):\n",
        "                    todo_list[task_index][\"completed\"] = True\n",
        "                    print(f\"{todo_list[task_index]['task']} marked as completed.\")\n",
        "                else:\n",
        "                    print(\"Invalid task number.\")\n",
        "\n",
        "        elif user_choice == \"4\":\n",
        "            print(\"\\nTo-Do List Summary:\")\n",
        "            if not todo_list:\n",
        "                print(\"Your to-do list is empty.\")\n",
        "            else:\n",
        "                for task in todo_list:\n",
        "                    status = \"Completed\" if task[\"completed\"] else \"Not Completed\"\n",
        "                    print(f\"{task['task']} - {status}\")\n",
        "\n",
        "            break\n",
        "\n",
        "        else:\n",
        "            print(\"\\nInvalid choice. Please enter a valid option.\")\n",
        "\n",
        "if _name_ == \"_main_\":\n",
        "    todo_list_app()"
      ],
      "metadata": {
        "id": "jJxZl36M9VVN"
      },
      "execution_count": null,
      "outputs": []
    },
    {
      "cell_type": "markdown",
      "source": [
        "6. Simple Currency Converter: Travel the world with ease! This converter instantly translates between currencies, ensuring you know exactly how much you're spending wherever you go. (Topics: User input, variables, operators, strings)"
      ],
      "metadata": {
        "id": "I7PYj6Ew9mlA"
      }
    },
    {
      "cell_type": "code",
      "source": [
        "def currency_converter(amount, from_currency, to_currency, exchange_rate):\n",
        "    converted_amount = amount * exchange_rate\n",
        "    result_message = f\"{amount} {from_currency} is equal to {converted_amount} {to_currency}.\"\n",
        "    return result_message\n",
        "\n",
        "\n",
        "amount = float(input(\"Enter the amount: \"))\n",
        "from_currency = input(\"Enter the source currency: \")\n",
        "to_currency = input(\"Enter the target currency: \")\n",
        "exchange_rate = float(input(f\"Enter the exchange rate from {from_currency} to {to_currency}: \"))\n",
        "\n",
        "result = currency_converter(amount, from_currency, to_currency, exchange_rate)\n",
        "print(result)"
      ],
      "metadata": {
        "id": "rasLuyRp9_WT"
      },
      "execution_count": null,
      "outputs": []
    },
    {
      "cell_type": "code",
      "source": [],
      "metadata": {
        "id": "zqzPcPgh7hb2"
      },
      "execution_count": null,
      "outputs": []
    }
  ]
}