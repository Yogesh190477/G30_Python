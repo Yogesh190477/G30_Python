{
  "cells": [
    {
      "cell_type": "code",
      "execution_count": null,
      "metadata": {
        "colab": {
          "base_uri": "https://localhost:8080/"
        },
        "id": "YnTvBsjvrkPI",
        "outputId": "d8ae2206-06fa-469a-8c99-fc28de922b65"
      },
      "outputs": [
        {
          "name": "stdout",
          "output_type": "stream",
          "text": [
            "enter n value=55\n",
            "given number is 55\n",
            "55 is an odd number\n"
          ]
        }
      ],
      "source": [
        "n=int(input('enter n value='))\n",
        "print('given number is',n)\n",
        "r=n%2\n",
        "if (r==0):\n",
        "    print(n,\"is an even number\")\n",
        "else:\n",
        "     print(n,\"is an odd number\")\n"
      ]
    },
    {
      "cell_type": "code",
      "execution_count": null,
      "metadata": {
        "id": "Sj0LDFGoxksx"
      },
      "outputs": [],
      "source": []
    },
    {
      "cell_type": "code",
      "execution_count": null,
      "metadata": {
        "colab": {
          "base_uri": "https://localhost:8080/"
        },
        "id": "9Qb_bv0ir6kr",
        "outputId": "e0fb91b0-695d-4c01-b102-7c809b02bd73"
      },
      "outputs": [
        {
          "name": "stdout",
          "output_type": "stream",
          "text": [
            "enter the age=20\n",
            "you are eligible for voting\n"
          ]
        }
      ],
      "source": [
        "age=int(input(\"enter the age=\"))\n",
        "if age>18:\n",
        "    print(\"you are eligible for voting\")\n",
        "else:\n",
        "    print(\"you are not eligible for voting\")\n"
      ]
    },
    {
      "cell_type": "code",
      "execution_count": null,
      "metadata": {
        "colab": {
          "base_uri": "https://localhost:8080/"
        },
        "id": "kSCzh5Obr6-z",
        "outputId": "f5e30410-0ddc-439d-d2c5-79953bf3a298"
      },
      "outputs": [
        {
          "name": "stdout",
          "output_type": "stream",
          "text": [
            "YEAR=2025\n",
            "2025 IS NOT A LEAP YEAR\n"
          ]
        }
      ],
      "source": [
        "N=int(input(\"YEAR=\"))\n",
        "R=N%4\n",
        "if (R==0):\n",
        "    print(N,\"IS A LEAP YEAR\")\n",
        "else:\n",
        "    print(N,\"IS NOT A LEAP YEAR\")\n"
      ]
    },
    {
      "cell_type": "code",
      "execution_count": null,
      "metadata": {
        "colab": {
          "base_uri": "https://localhost:8080/"
        },
        "id": "Opb6Rk1xr7SF",
        "outputId": "3488d6f2-ca6f-4b44-f983-fd13000efc58"
      },
      "outputs": [
        {
          "name": "stdout",
          "output_type": "stream",
          "text": [
            "COST OF THE PRODUCT=500\n",
            "DISCOUNT IN PERCENTAGE=10\n",
            "TOTAL COST OF THE PRODUCT= 450.0\n"
          ]
        }
      ],
      "source": [
        "\n",
        "N=float(input(\"COST OF THE PRODUCT=\"))\n",
        "D=float(input(\"DISCOUNT IN PERCENTAGE=\"))\n",
        "if N>=499:\n",
        "    M=(D/100)*N\n",
        "    print(\"TOTAL COST OF THE PRODUCT=\",N-M)\n",
        "else:\n",
        "    print(\"TOTAL COST OF THE PRODUCT=\",N)\n"
      ]
    },
    {
      "cell_type": "code",
      "execution_count": null,
      "metadata": {
        "colab": {
          "base_uri": "https://localhost:8080/"
        },
        "id": "DYdMShDBr5vb",
        "outputId": "04709bd7-19b4-4675-c7f6-25c46944b387"
      },
      "outputs": [
        {
          "name": "stdout",
          "output_type": "stream",
          "text": [
            "enter a characterMT\n",
            "THE CHARACTER IS UPPER CASE\n"
          ]
        }
      ],
      "source": [
        "character=input(\"enter a character\")\n",
        "if character.isupper():\n",
        "    print(\"THE CHARACTER IS UPPER CASE\")\n",
        "elif character.islower():\n",
        "     print(\"THE CHARACTER IS LOWER CASE\")\n",
        "else:\n",
        "    print(\"NOT UPPER NOT LOWER CASES\")\n"
      ]
    },
    {
      "cell_type": "code",
      "execution_count": null,
      "metadata": {
        "colab": {
          "base_uri": "https://localhost:8080/"
        },
        "id": "hRoD-Snysbol",
        "outputId": "ba900981-1f90-4943-c7ec-bffefc56ac88"
      },
      "outputs": [
        {
          "name": "stdout",
          "output_type": "stream",
          "text": [
            "NUMBER=20\n",
            "20 IS POSITIVE NUMBER\n"
          ]
        }
      ],
      "source": [
        "NUMBER=int(input(\"NUMBER=\"))\n",
        "if NUMBER>0:\n",
        "    print(NUMBER,\"IS POSITIVE NUMBER\")\n",
        "else:\n",
        "    print(NUMBER,\"IS NEGATIVE NUMBER\")\n"
      ]
    },
    {
      "cell_type": "code",
      "execution_count": null,
      "metadata": {
        "colab": {
          "base_uri": "https://localhost:8080/"
        },
        "id": "vkIgyCQKtKM8",
        "outputId": "e69d09ba-931b-46be-e1f8-85170b693e27"
      },
      "outputs": [
        {
          "name": "stdout",
          "output_type": "stream",
          "text": [
            "enter the rows=5\n",
            "*\n",
            "**\n",
            "***\n",
            "****\n",
            "*****\n"
          ]
        }
      ],
      "source": [
        "N=int(input(\"enter the rows=\"))\n",
        "for i in range(1,N+1):\n",
        "    for j in range(i):\n",
        "        print('*',end='')\n",
        "    print()\n"
      ]
    },
    {
      "cell_type": "code",
      "execution_count": null,
      "metadata": {
        "colab": {
          "base_uri": "https://localhost:8080/"
        },
        "id": "Ij2DTZdMtKQd",
        "outputId": "80a24419-ad3f-448c-a8cf-fe341be395b4"
      },
      "outputs": [
        {
          "output_type": "stream",
          "name": "stdout",
          "text": [
            "01 02 03 04 05 06 07 08 09 10 \n",
            "02 04 06 08 10 12 14 16 18 20 \n",
            "03 06 09 12 15 18 21 24 27 30 \n",
            "04 08 12 16 20 24 28 32 36 40 \n",
            "05 10 15 20 25 30 35 40 45 50 \n",
            "06 12 18 24 30 36 42 48 54 60 \n",
            "07 14 21 28 35 42 49 56 63 70 \n",
            "08 16 24 32 40 48 56 64 72 80 \n",
            "09 18 27 36 45 54 63 72 81 90 \n",
            "10 20 30 40 50 60 70 80 90 100 \n"
          ]
        }
      ],
      "source": [
        "for i in range(1,11):\n",
        "    for j in range(1,11):\n",
        "        result = i*j\n",
        "        if result<10:\n",
        "            print( f\"0{result}\",end=\" \")\n",
        "        else:\n",
        "            print(f\"{result}\",end=\" \")\n",
        "\n",
        "    print()\n"
      ]
    },
    {
      "cell_type": "code",
      "execution_count": null,
      "metadata": {
        "colab": {
          "base_uri": "https://localhost:8080/"
        },
        "id": "z2p0VAYKtKUH",
        "outputId": "34a08ce0-f077-4454-a422-f38aa0bb30b5"
      },
      "outputs": [
        {
          "name": "stdout",
          "output_type": "stream",
          "text": [
            "N=50\n",
            "2\n",
            "3\n",
            "5\n",
            "7\n",
            "11\n",
            "13\n",
            "17\n",
            "19\n",
            "23\n",
            "29\n",
            "31\n",
            "37\n",
            "41\n",
            "43\n",
            "47\n"
          ]
        }
      ],
      "source": [
        "N=int(input(\"N=\"))\n",
        "for p in range(2,N+1):\n",
        "    c=0\n",
        "    for i in range(1,p+1):\n",
        "        if(p%i==0):\n",
        "            c=c+1\n",
        "    if(c==2):\n",
        "        print(p)\n",
        "\n"
      ]
    },
    {
      "cell_type": "code",
      "execution_count": null,
      "metadata": {
        "colab": {
          "base_uri": "https://localhost:8080/"
        },
        "id": "zpfixG5QtKXY",
        "outputId": "403c0ad6-46b7-47d5-8f9f-1e88717fc532"
      },
      "outputs": [
        {
          "name": "stdout",
          "output_type": "stream",
          "text": [
            "N=5\n",
            "1\n",
            "2\n",
            "3\n",
            "5\n"
          ]
        }
      ],
      "source": [
        "N=int(input(\"N=\"))\n",
        "a=0\n",
        "b=1\n",
        "for i in range(1,N):\n",
        "    c=a+b\n",
        "    print(c)\n",
        "    a=b\n",
        "    b=c\n"
      ]
    },
    {
      "cell_type": "code",
      "execution_count": null,
      "metadata": {
        "colab": {
          "base_uri": "https://localhost:8080/"
        },
        "id": "B7YcNtFHtKaO",
        "outputId": "26bed312-c158-4a8d-df10-38e6a7620d5f"
      },
      "outputs": [
        {
          "output_type": "stream",
          "name": "stdout",
          "text": [
            "Enter the number of rows for Pascal's triangle: 10\n",
            "              1               \n",
            "             1 1              \n",
            "            1 2 1             \n",
            "           1 3 3 1            \n",
            "          1 4 6 4 1           \n",
            "        1 5 10 10 5 1         \n",
            "       1 6 15 20 15 6 1       \n",
            "     1 7 21 35 35 21 7 1      \n",
            "    1 8 28 56 70 56 28 8 1    \n",
            " 1 9 36 84 126 126 84 36 9 1  \n"
          ]
        }
      ],
      "source": [
        "def generate_pascals_triangle(n):\n",
        "    triangle = []\n",
        "\n",
        "    for i in range(n):\n",
        "        row = [1] * (i + 1)\n",
        "\n",
        "        if i > 1:\n",
        "            for j in range(1, i):\n",
        "                row[j] = triangle[i - 1][j - 1] + triangle[i - 1][j]\n",
        "\n",
        "        triangle.append(row)\n",
        "\n",
        "    return triangle\n",
        "\n",
        "def print_pascals_triangle(triangle):\n",
        "    for row in triangle:\n",
        "        print(\" \".join(map(str, row)).center(len(triangle[-1]) * 3))\n",
        "\n",
        "def main():\n",
        "    try:\n",
        "        n = int(input(\"Enter the number of rows for Pascal's triangle: \"))\n",
        "        if n < 0:\n",
        "            raise ValueError(\"Number of rows should be a non-negative integer.\")\n",
        "    except ValueError as e:\n",
        "        print(f\"Error: {e}\")\n",
        "        return\n",
        "\n",
        "    pascals_triangle = generate_pascals_triangle(n)\n",
        "    print_pascals_triangle(pascals_triangle)\n",
        "\n",
        "if __name__ == \"__main__\":\n",
        "    main()\n"
      ]
    }
  ],
  "metadata": {
    "colab": {
      "provenance": []
    },
    "kernelspec": {
      "display_name": "Python 3",
      "name": "python3"
    },
    "language_info": {
      "name": "python"
    }
  },
  "nbformat": 4,
  "nbformat_minor": 0
}